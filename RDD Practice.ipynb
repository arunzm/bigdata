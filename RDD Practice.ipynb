{
 "cells": [
  {
   "cell_type": "code",
   "execution_count": 2,
   "metadata": {
    "collapsed": true
   },
   "outputs": [],
   "source": [
    "var lines = sc.textFile(\"/data/mr/wordcount/input/big.txt\")"
   ]
  },
  {
   "cell_type": "code",
   "execution_count": 3,
   "metadata": {
    "collapsed": true
   },
   "outputs": [],
   "source": [
    "var local_lines = lines.take(20)"
   ]
  },
  {
   "cell_type": "code",
   "execution_count": 4,
   "metadata": {},
   "outputs": [
    {
     "data": {
      "text/plain": [
       "Array(The Project Gutenberg EBook of The Adventures of Sherlock Holmes, by Sir Arthur Conan Doyle, (#15 in our series by Sir Arthur Conan Doyle), \"\", Copyright laws are changing all over the world. Be sure to check the, copyright laws for your country before downloading or redistributing, this or any other Project Gutenberg eBook., \"\", This header should be the first thing seen when viewing this Project, Gutenberg file.  Please do not remove it.  Do not change or edit the, header without written permission., \"\", Please read the \"legal small print,\" and other information about the, eBook and Project Gutenberg at the bottom of this file.  Included is, important information about your specific rights and restrictions in, how the file may be used.  You can also find ou..."
      ]
     },
     "execution_count": 4,
     "metadata": {},
     "output_type": "execute_result"
    }
   ],
   "source": [
    "local_lines"
   ]
  },
  {
   "cell_type": "code",
   "execution_count": 9,
   "metadata": {},
   "outputs": [
    {
     "data": {
      "text/plain": [
       "Name: Compile Error\n",
       "Message: <console>:17: error: value length is not a member of org.apache.spark.rdd.RDD[String]\n",
       "              lines.length\n",
       "                    ^\n",
       "StackTrace: "
      ]
     },
     "execution_count": 9,
     "metadata": {},
     "output_type": "execute_result"
    }
   ],
   "source": [
    "lines.length"
   ]
  },
  {
   "cell_type": "code",
   "execution_count": 16,
   "metadata": {},
   "outputs": [
    {
     "data": {
      "text/plain": [
       "Array(The, Project, Gutenberg, EBook, of)"
      ]
     },
     "execution_count": 16,
     "metadata": {},
     "output_type": "execute_result"
    }
   ],
   "source": [
    "words.take(5)"
   ]
  },
  {
   "cell_type": "code",
   "execution_count": 31,
   "metadata": {
    "collapsed": true
   },
   "outputs": [],
   "source": [
    "var words = local_lines.flatMap(x => x.split(\" \"))"
   ]
  },
  {
   "cell_type": "code",
   "execution_count": 32,
   "metadata": {
    "collapsed": true
   },
   "outputs": [],
   "source": [
    "var wordkv = words.map(x => (x,1))"
   ]
  },
  {
   "cell_type": "code",
   "execution_count": 35,
   "metadata": {},
   "outputs": [
    {
     "data": {
      "text/plain": [
       "class [Lscala.Tuple2;"
      ]
     },
     "execution_count": 35,
     "metadata": {},
     "output_type": "execute_result"
    }
   ],
   "source": [
    "wordkv.getClass\n"
   ]
  },
  {
   "cell_type": "code",
   "execution_count": 36,
   "metadata": {},
   "outputs": [
    {
     "data": {
      "text/plain": [
       "Name: Compile Error\n",
       "Message: <console>:22: error: value reduceByKey is not a member of Array[(String, Int)]\n",
       "       var output = wordkv.reduceByKey(_ + _)\n",
       "                           ^\n",
       "StackTrace: "
      ]
     },
     "execution_count": 36,
     "metadata": {},
     "output_type": "execute_result"
    }
   ],
   "source": [
    "var output = wordkv.reduceByKey(_ + _)"
   ]
  },
  {
   "cell_type": "code",
   "execution_count": 25,
   "metadata": {},
   "outputs": [
    {
     "data": {
      "text/plain": [
       "Array((The,1), (Project,1), (Gutenberg,1), (EBook,1), (of,1), (The,1), (Adventures,1), (of,1), (Sherlock,1), (Holmes,1), (by,1), (Sir,1), (Arthur,1), (Conan,1), (Doyle,1), ((#15,1), (in,1), (our,1), (series,1), (by,1), (Sir,1), (Arthur,1), (Conan,1), (Doyle),1), (\"\",1), (Copyright,1), (laws,1), (are,1), (changing,1), (all,1), (over,1), (the,1), (world.,1), (Be,1), (sure,1), (to,1), (check,1), (the,1), (copyright,1), (laws,1), (for,1), (your,1), (country,1), (before,1), (downloading,1), (or,1), (redistributing,1), (this,1), (or,1), (any,1), (other,1), (Project,1), (Gutenberg,1), (eBook.,1), (\"\",1), (This,1), (header,1), (should,1), (be,1), (the,1), (first,1), (thing,1), (seen,1), (when,1), (viewing,1), (this,1), (Project,1), (Gutenberg,1), (file.,1), (\"\",1),..."
      ]
     },
     "execution_count": 25,
     "metadata": {},
     "output_type": "execute_result"
    }
   ],
   "source": [
    "wordkv\n"
   ]
  },
  {
   "cell_type": "code",
   "execution_count": null,
   "metadata": {
    "collapsed": true
   },
   "outputs": [],
   "source": [
    "var output = wordkv.reduceByKey(_ + _)"
   ]
  },
  {
   "cell_type": "code",
   "execution_count": null,
   "metadata": {
    "collapsed": true
   },
   "outputs": [],
   "source": [
    "var lines = sc.textFile(\"/data/mr/wordcount/input/big.txt\")"
   ]
  },
  {
   "cell_type": "code",
   "execution_count": 1,
   "metadata": {
    "collapsed": true
   },
   "outputs": [],
   "source": [
    "var lines = sc.textFile(\"/data/mr/wordcount/input/big.txt\")"
   ]
  },
  {
   "cell_type": "code",
   "execution_count": 2,
   "metadata": {
    "collapsed": true
   },
   "outputs": [],
   "source": [
    "var arr = 1 to 1000"
   ]
  },
  {
   "cell_type": "code",
   "execution_count": 15,
   "metadata": {
    "collapsed": true
   },
   "outputs": [],
   "source": [
    "var arr = 1 to 1000\n",
    "var num = sc.parallelize(arr)\n",
    "def isEven(x:Int):Array[Int] = {\n",
    "if(x%2 == 0) Array(x)\n",
    "else Array()\n",
    "}"
   ]
  },
  {
   "cell_type": "code",
   "execution_count": 9,
   "metadata": {},
   "outputs": [
    {
     "data": {
      "text/plain": [
       "Array()"
      ]
     },
     "execution_count": 9,
     "metadata": {},
     "output_type": "execute_result"
    }
   ],
   "source": [
    "isEven(1)"
   ]
  },
  {
   "cell_type": "code",
   "execution_count": 14,
   "metadata": {},
   "outputs": [
    {
     "data": {
      "text/plain": [
       "Array(1, 2, 3, 4, 5, 6, 7, 8, 9, 10, 11, 12, 13, 14, 15, 16, 17, 18, 19, 20, 21, 22, 23, 24, 25, 26, 27, 28, 29, 30, 31, 32, 33, 34, 35, 36, 37, 38, 39, 40, 41, 42, 43, 44, 45, 46, 47, 48, 49, 50, 51, 52, 53, 54, 55, 56, 57, 58, 59, 60, 61, 62, 63, 64, 65, 66, 67, 68, 69, 70, 71, 72, 73, 74, 75, 76, 77, 78, 79, 80, 81, 82, 83, 84, 85, 86, 87, 88, 89, 90, 91, 92, 93, 94, 95, 96, 97, 98, 99, 100, 101, 102, 103, 104, 105, 106, 107, 108, 109, 110, 111, 112, 113, 114, 115, 116, 117, 118, 119, 120, 121, 122, 123, 124, 125, 126, 127, 128, 129, 130, 131, 132, 133, 134, 135, 136, 137, 138, 139, 140, 141, 142, 143, 144, 145, 146, 147, 148, 149, 150, 151, 152, 153, 154, 155, 156, 157, 158, 159, 160, 161, 162, 163, 164, 165, 166, 167, 168, 169, 170, 171, 172, 173, 174, 175, 176, ..."
      ]
     },
     "execution_count": 14,
     "metadata": {},
     "output_type": "execute_result"
    }
   ],
   "source": [
    "num.collect()"
   ]
  },
  {
   "cell_type": "code",
   "execution_count": 16,
   "metadata": {
    "collapsed": true
   },
   "outputs": [],
   "source": [
    "var evens = num.flatMap(isEven)"
   ]
  },
  {
   "cell_type": "code",
   "execution_count": 18,
   "metadata": {},
   "outputs": [
    {
     "data": {
      "text/plain": [
       "Name: Compile Error\n",
       "Message: <console>:13: error: not found: value lines\n",
       "              lines.take(10)\n",
       "              ^\n",
       "StackTrace: "
      ]
     },
     "execution_count": 18,
     "metadata": {},
     "output_type": "execute_result"
    }
   ],
   "source": [
    "lines.take(10)"
   ]
  },
  {
   "cell_type": "code",
   "execution_count": 19,
   "metadata": {
    "collapsed": true
   },
   "outputs": [],
   "source": [
    "var lines = sc.textFile(\"/data/mr/wordcount/input/big.txt\")"
   ]
  },
  {
   "cell_type": "code",
   "execution_count": 23,
   "metadata": {},
   "outputs": [
    {
     "data": {
      "text/plain": [
       "Array((Ah!,6), (reunion,4), (bone,350), (anaerobes,,2), (\"opposed,2), (595;,1), (blandly,6), (person-,1), (wobbers,1), (signal.,2))"
      ]
     },
     "execution_count": 23,
     "metadata": {},
     "output_type": "execute_result"
    }
   ],
   "source": [
    "var words = lines.flatMap(x => x.split(\" \"))\n",
    "var wordskv = words.map(x => (x,1))\n",
    "def myfunc(x:Int,y:Int) = x + y\n",
    "var wordcount = wordskv.reduceByKey(myfunc)\n",
    "wordcount.take(10)"
   ]
  },
  {
   "cell_type": "code",
   "execution_count": 24,
   "metadata": {},
   "outputs": [
    {
     "data": {
      "text/plain": [
       "Array(2, 4, 6, 8, 10, 12, 14, 16, 18, 20, 22, 24, 26, 28, 30, 32, 34, 36, 38, 40, 42, 44, 46, 48, 50, 52, 54, 56, 58, 60, 62, 64, 66, 68, 70, 72, 74, 76, 78, 80, 82, 84, 86, 88, 90, 92, 94, 96, 98, 100, 102, 104, 106, 108, 110, 112, 114, 116, 118, 120, 122, 124, 126, 128, 130, 132, 134, 136, 138, 140, 142, 144, 146, 148, 150, 152, 154, 156, 158, 160, 162, 164, 166, 168, 170, 172, 174, 176, 178, 180, 182, 184, 186, 188, 190, 192, 194, 196, 198, 200, 202, 204, 206, 208, 210, 212, 214, 216, 218, 220, 222, 224, 226, 228, 230, 232, 234, 236, 238, 240, 242, 244, 246, 248, 250, 252, 254, 256, 258, 260, 262, 264, 266, 268, 270, 272, 274, 276, 278, 280, 282, 284, 286, 288, 290, 292, 294, 296, 298, 300, 302, 304, 306, 308, 310, 312, 314, 316, 318, 320, 322, 324, 326, 328, 330,..."
      ]
     },
     "execution_count": 24,
     "metadata": {},
     "output_type": "execute_result"
    }
   ],
   "source": [
    "evens.collect()"
   ]
  },
  {
   "cell_type": "code",
   "execution_count": 28,
   "metadata": {
    "collapsed": true
   },
   "outputs": [],
   "source": [
    "var union = num.union(evens)"
   ]
  },
  {
   "cell_type": "code",
   "execution_count": 29,
   "metadata": {
    "scrolled": true
   },
   "outputs": [
    {
     "data": {
      "text/plain": [
       "Array(1, 2, 3, 4, 5, 6, 7, 8, 9, 10, 11, 12, 13, 14, 15, 16, 17, 18, 19, 20, 21, 22, 23, 24, 25, 26, 27, 28, 29, 30, 31, 32, 33, 34, 35, 36, 37, 38, 39, 40, 41, 42, 43, 44, 45, 46, 47, 48, 49, 50, 51, 52, 53, 54, 55, 56, 57, 58, 59, 60, 61, 62, 63, 64, 65, 66, 67, 68, 69, 70, 71, 72, 73, 74, 75, 76, 77, 78, 79, 80, 81, 82, 83, 84, 85, 86, 87, 88, 89, 90, 91, 92, 93, 94, 95, 96, 97, 98, 99, 100, 101, 102, 103, 104, 105, 106, 107, 108, 109, 110, 111, 112, 113, 114, 115, 116, 117, 118, 119, 120, 121, 122, 123, 124, 125, 126, 127, 128, 129, 130, 131, 132, 133, 134, 135, 136, 137, 138, 139, 140, 141, 142, 143, 144, 145, 146, 147, 148, 149, 150, 151, 152, 153, 154, 155, 156, 157, 158, 159, 160, 161, 162, 163, 164, 165, 166, 167, 168, 169, 170, 171, 172, 173, 174, 175, 176,..."
      ]
     },
     "execution_count": 29,
     "metadata": {},
     "output_type": "execute_result"
    }
   ],
   "source": [
    "union.collect()"
   ]
  },
  {
   "cell_type": "code",
   "execution_count": 33,
   "metadata": {},
   "outputs": [
    {
     "data": {
      "text/plain": [
       "2"
      ]
     },
     "execution_count": 33,
     "metadata": {},
     "output_type": "execute_result"
    }
   ],
   "source": [
    "lines.partitions.length"
   ]
  },
  {
   "cell_type": "code",
   "execution_count": 9,
   "metadata": {},
   "outputs": [
    {
     "data": {
      "text/plain": [
       "10"
      ]
     },
     "execution_count": 9,
     "metadata": {},
     "output_type": "execute_result"
    }
   ],
   "source": [
    "var rdd = sc.parallelize(1 to 100)\n",
    "var count = rdd.count()\n",
    "var fraction = 0.1\n",
    "def cointoss(x: Int):Boolean = scala.util.Random.nextFloat() <= fraction\n",
    "var samplerdd = rdd.filter(cointoss)\n",
    "var samplelegnth = count*fraction \n",
    "var sample = rdd.take(samplelegnth.toInt)\n",
    "sample.length"
   ]
  },
  {
   "cell_type": "code",
   "execution_count": 4,
   "metadata": {},
   "outputs": [
    {
     "data": {
      "text/plain": [
       "Array(1, 6, 15, 17, 24, 26, 45, 62, 71, 75, 76, 93, 94, 100)"
      ]
     },
     "execution_count": 4,
     "metadata": {},
     "output_type": "execute_result"
    }
   ],
   "source": [
    "samplerdd.collect()"
   ]
  },
  {
   "cell_type": "code",
   "execution_count": 25,
   "metadata": {
    "collapsed": true
   },
   "outputs": [],
   "source": [
    "var rdd = sc.parallelize(1 to 50, 3)\n",
    "\n",
    "//#The number of default partitions is function of the following \n",
    "//# are we running on Hadoop?\n",
    "//# Are we using sc.textFile?\n",
    "//# How many cores do we have ?\n",
    "//# How many machines do we have ?\n",
    "\n",
    "def f(i:Iterator[Int]):Iterator[Int] = {\n",
    "var sum = 0\n",
    "while(i.hasNext){\n",
    "sum = sum + i.next\n",
    "}\n",
    "return List(sum).iterator\n",
    "}"
   ]
  },
  {
   "cell_type": "code",
   "execution_count": 16,
   "metadata": {},
   "outputs": [
    {
     "data": {
      "text/plain": [
       "Array(136, 425, 714)"
      ]
     },
     "execution_count": 16,
     "metadata": {},
     "output_type": "execute_result"
    }
   ],
   "source": [
    "rdd.mapPartitions(f).collect()"
   ]
  },
  {
   "cell_type": "code",
   "execution_count": 33,
   "metadata": {
    "collapsed": true
   },
   "outputs": [],
   "source": [
    "var rdd = sc.parallelize( 1 to 99, 3)\n",
    "def f(l:Iterator[Int]):Iterator[Int] = {\n",
    "var sum = 0\n",
    "while(l.hasNext){\n",
    "sum = sum + 1\n",
    "l.next\n",
    "}\n",
    "return List(sum).iterator\n",
    "}"
   ]
  },
  {
   "cell_type": "code",
   "execution_count": 34,
   "metadata": {},
   "outputs": [
    {
     "data": {
      "text/plain": [
       "Array(33, 33, 33)"
      ]
     },
     "execution_count": 34,
     "metadata": {},
     "output_type": "execute_result"
    }
   ],
   "source": [
    "rdd.mapPartitions(f).collect()"
   ]
  },
  {
   "cell_type": "code",
   "execution_count": 35,
   "metadata": {
    "collapsed": true
   },
   "outputs": [],
   "source": [
    "var tmp = List(('a', 1), ('b', 2), ('1', 3), ('d', 4), ('2', 5))\n",
    "var rdd = sc.parallelize(tmp)\n"
   ]
  },
  {
   "cell_type": "code",
   "execution_count": 37,
   "metadata": {},
   "outputs": [
    {
     "data": {
      "text/plain": [
       "Array((d,4), (b,2), (a,1), (2,5), (1,3))"
      ]
     },
     "execution_count": 37,
     "metadata": {},
     "output_type": "execute_result"
    }
   ],
   "source": [
    "rdd.sortBy(x => x._1, false).collect()"
   ]
  },
  {
   "cell_type": "code",
   "execution_count": 1,
   "metadata": {},
   "outputs": [
    {
     "data": {
      "text/plain": [
       "__678910_12345"
      ]
     },
     "execution_count": 1,
     "metadata": {},
     "output_type": "execute_result"
    }
   ],
   "source": [
    "var myrdd = sc.parallelize(1 to 10,2)\n",
    "var myrdd1 = myrdd.map(_.toString)\n",
    "def concat(s:String, n:String):String = s+n\n",
    "\n",
    "var s = \"_\"\n",
    "myrdd1.fold(s)(concat)"
   ]
  },
  {
   "cell_type": "code",
   "execution_count": 15,
   "metadata": {
    "collapsed": true
   },
   "outputs": [],
   "source": [
    "var myrdd2 = myrdd.foreach(_ + 1)"
   ]
  },
  {
   "cell_type": "code",
   "execution_count": 19,
   "metadata": {},
   "outputs": [
    {
     "data": {
      "text/plain": [
       "Name: Compile Error\n",
       "Message: <console>:19: error: value take is not a member of Unit\n",
       "              myrdd2.take(2)\n",
       "                     ^\n",
       "StackTrace: "
      ]
     },
     "execution_count": 19,
     "metadata": {},
     "output_type": "execute_result"
    }
   ],
   "source": [
    "myrdd2.take(2)"
   ]
  },
  {
   "cell_type": "code",
   "execution_count": 23,
   "metadata": {
    "collapsed": true
   },
   "outputs": [],
   "source": [
    "var lines = sc.textFile(\"/data/mr/wordcount/big.txt\")\n",
    "var words = lines.flatMap(x => x.split(\" \"))\n",
    "var wordkv = words.map(x => (x,1))\n",
    "var wordcount = wordkv.reduceByKey((x,y) => (x+y))"
   ]
  },
  {
   "cell_type": "code",
   "execution_count": 32,
   "metadata": {
    "collapsed": true
   },
   "outputs": [],
   "source": [
    "var sortby = wordcount.sortBy((_._1),false)"
   ]
  },
  {
   "cell_type": "code",
   "execution_count": 33,
   "metadata": {},
   "outputs": [
    {
     "data": {
      "text/plain": [
       "Array((|not,1), (|had,1), (|but,1), (|Wyoming,1), (|Wisconsin,1), (|West,1), (|Washington,1), (|Virginia,1), (|Vermont,1), (|Utah,1))"
      ]
     },
     "execution_count": 33,
     "metadata": {},
     "output_type": "execute_result"
    }
   ],
   "source": [
    "sortby.take(10)"
   ]
  },
  {
   "cell_type": "code",
   "execution_count": 34,
   "metadata": {},
   "outputs": [
    {
     "data": {
      "text/plain": [
       "Array((Ah!,6), (reunion,4), (bone,350), (anaerobes,,2), (\"opposed,2), (595;,1), (blandly,6), (person-,1), (wobbers,1), (signal.,2))"
      ]
     },
     "execution_count": 34,
     "metadata": {},
     "output_type": "execute_result"
    }
   ],
   "source": [
    "wordcount.take(10)"
   ]
  },
  {
   "cell_type": "code",
   "execution_count": 36,
   "metadata": {
    "collapsed": true
   },
   "outputs": [],
   "source": [
    "wordcount.saveAsTextFile(\"wordcount_output\")"
   ]
  },
  {
   "cell_type": "code",
   "execution_count": 37,
   "metadata": {},
   "outputs": [
    {
     "data": {
      "text/plain": [
       "Array((71744,the), (68870,\"\"), (39169,of), (35968,and), (27895,to), (19811,a), (19515,in), (11216,that), (11129,was), (9561,his))"
      ]
     },
     "execution_count": 37,
     "metadata": {},
     "output_type": "execute_result"
    }
   ],
   "source": [
    "wordcount.map(x => (x._2,x._1)).top(10)"
   ]
  },
  {
   "cell_type": "code",
   "execution_count": 41,
   "metadata": {},
   "outputs": [
    {
     "data": {
      "text/plain": [
       "Array((the,71744), (\"\",68870), (of,39169), (and,35968), (to,27895), (a,19811), (in,19515), (that,11216), (was,11129), (his,9561), (he,9362), (with,9358), (is,9247), (as,7333), (had,7275), (it,6545), (by,6384), (for,6358), (at,6237), (not,6201), (The,6139), (be,5934), (I,5799), (on,5688), (from,5361), (or,5183), (which,4597), (her,4369), (were,4173), (but,4118), (you,3573), (are,3418), (have,3369), (all,3349), (an,3222), (him,3098), (they,2961), (said,2946), (this,2937), (their,2878), (she,2866), (who,2716), (one,2682), (been,2567), (may,2440), (so,2344), (He,2119), (into,2098), (my,1998), (what,1997), (when,1928), (would,1901), (up,1892), (there,1836), (In,1829), (more,1794), (did,1771), (no,1754), (only,1676), (out,1675), (could,1663), (It,1625), (if,1616)..."
      ]
     },
     "execution_count": 41,
     "metadata": {},
     "output_type": "execute_result"
    }
   ],
   "source": [
    "wordcount.sortBy(x => x._2, false).take(100)"
   ]
  },
  {
   "cell_type": "code",
   "execution_count": 42,
   "metadata": {},
   "outputs": [
    {
     "data": {
      "text/plain": [
       "kajshajkha1131333334535381830"
      ]
     },
     "execution_count": 42,
     "metadata": {},
     "output_type": "execute_result"
    }
   ],
   "source": [
    "\"kajsh ajkha 1 1 3 1@3 3 3 33#4 5 35 @#$*&^  $ $ ! #-----=======38 1830=====////!\".replaceAll(\"[^0-9a-z]\", \"\")"
   ]
  },
  {
   "cell_type": "code",
   "execution_count": 2,
   "metadata": {
    "collapsed": true
   },
   "outputs": [],
   "source": [
    "var txtRDD = sc.textFile(\"/data/spark/temps.csv\")"
   ]
  },
  {
   "cell_type": "code",
   "execution_count": 10,
   "metadata": {},
   "outputs": [
    {
     "data": {
      "text/plain": [
       "Array(20, NYC, 2014-01-01, 20, NYC, 2015-01-01, 21, NYC, 2014-01-02, 23, BLR, 2012-01-01, 25, SEATLE, 2016-01-01, 21, CHICAGO, 2013-01-05, 24, NYC, 2016-5-05)"
      ]
     },
     "execution_count": 10,
     "metadata": {},
     "output_type": "execute_result"
    }
   ],
   "source": [
    "txtRDD.collect()"
   ]
  },
  {
   "cell_type": "code",
   "execution_count": 14,
   "metadata": {
    "collapsed": true
   },
   "outputs": [],
   "source": [
    "def cleanRecord(line:String) = {\n",
    "var arr = line.split(\",\");\n",
    "(arr(1).trim,arr(0).toInt)\n",
    "}\n",
    "var recordRDD = txtRDD.map(cleanRecord)"
   ]
  },
  {
   "cell_type": "code",
   "execution_count": 11,
   "metadata": {
    "collapsed": true
   },
   "outputs": [],
   "source": [
    "def max(a:Int, b:Int) = if (b>a) b else a"
   ]
  },
  {
   "cell_type": "code",
   "execution_count": 3,
   "metadata": {},
   "outputs": [
    {
     "data": {
      "text/plain": [
       "Name: Compile Error\n",
       "Message: <console>:13: error: not found: value recordRDD\n",
       "              recordRDD.collect()\n",
       "              ^\n",
       "StackTrace: "
      ]
     },
     "execution_count": 3,
     "metadata": {},
     "output_type": "execute_result"
    }
   ],
   "source": [
    "recordRDD.collect()"
   ]
  },
  {
   "cell_type": "code",
   "execution_count": 18,
   "metadata": {
    "collapsed": true
   },
   "outputs": [],
   "source": [
    "var res = recordRDD.reduceByKey(max)"
   ]
  },
  {
   "cell_type": "code",
   "execution_count": 19,
   "metadata": {},
   "outputs": [
    {
     "data": {
      "text/plain": [
       "Array((CHICAGO,21), (BLR,23), (SEATLE,25), (NYC,24))"
      ]
     },
     "execution_count": 19,
     "metadata": {},
     "output_type": "execute_result"
    }
   ],
   "source": [
    "res.collect()"
   ]
  },
  {
   "cell_type": "code",
   "execution_count": 4,
   "metadata": {
    "collapsed": true
   },
   "outputs": [],
   "source": [
    "def cleanRecord1(line:String) = {\n",
    "    var arr = line.split(\",\");\n",
    "    (arr(1).trim, (arr(0).toInt, arr(2)))\n",
    "}"
   ]
  },
  {
   "cell_type": "code",
   "execution_count": 5,
   "metadata": {
    "collapsed": true
   },
   "outputs": [],
   "source": [
    "var tempRdd = txtRDD.map(cleanRecord1)"
   ]
  },
  {
   "cell_type": "code",
   "execution_count": 6,
   "metadata": {},
   "outputs": [
    {
     "data": {
      "text/plain": [
       "Array((NYC,(20,\" 2014-01-01\")), (NYC,(20,\" 2015-01-01\")), (NYC,(21,\" 2014-01-02\")), (BLR,(23,\" 2012-01-01\")), (SEATLE,(25,\" 2016-01-01\")), (CHICAGO,(21,\" 2013-01-05\")), (NYC,(24,\" 2016-5-05\")))"
      ]
     },
     "execution_count": 6,
     "metadata": {},
     "output_type": "execute_result"
    }
   ],
   "source": [
    "tempRdd.collect()"
   ]
  },
  {
   "cell_type": "code",
   "execution_count": 9,
   "metadata": {
    "collapsed": true
   },
   "outputs": [],
   "source": [
    "def max (a: (Int,String), b: (Int,String)) = {\n",
    "    if (a._1 > b._1) a else b\n",
    "}"
   ]
  },
  {
   "cell_type": "markdown",
   "metadata": {},
   "source": [
    "tempRdd.(max).collect()"
   ]
  },
  {
   "cell_type": "code",
   "execution_count": 11,
   "metadata": {},
   "outputs": [
    {
     "data": {
      "text/plain": [
       "Array((CHICAGO,(21,\" 2013-01-05\")), (BLR,(23,\" 2012-01-01\")), (SEATLE,(25,\" 2016-01-01\")), (NYC,(24,\" 2016-5-05\")))"
      ]
     },
     "execution_count": 11,
     "metadata": {},
     "output_type": "execute_result"
    }
   ],
   "source": [
    "tempRdd.reduceByKey(max).collect()"
   ]
  },
  {
   "cell_type": "code",
   "execution_count": 15,
   "metadata": {},
   "outputs": [
    {
     "data": {
      "text/plain": [
       "Array((a,2), (b,1))"
      ]
     },
     "execution_count": 15,
     "metadata": {},
     "output_type": "execute_result"
    }
   ],
   "source": [
    "var rdd = sc.parallelize(Array(('a',1),('b',1),('a',2)))\n",
    "var rdd1 = rdd.groupByKey()\n",
    "rdd1.collect()\n",
    "def sz(x:Iterable[Int]) = x.size\n",
    "var rdd2 = rdd1.mapValues(sz)\n",
    "rdd2.collect()"
   ]
  },
  {
   "cell_type": "code",
   "execution_count": 1,
   "metadata": {},
   "outputs": [
    {
     "data": {
      "text/plain": [
       "Array((x,_1;2;3;4, _5;6;7;8))"
      ]
     },
     "execution_count": 1,
     "metadata": {},
     "output_type": "execute_result"
    }
   ],
   "source": [
    "var myrdd = sc.parallelize(List(1,2,3,4,5,6,7,8), 2)\n",
    "//Array(1, 2, 3, 4, 5)\n",
    "\n",
    "var rdd1 = myrdd.map((\"x\", _))\n",
    "//Array((x,1), (x,2), (x,3), (x,4), (x,5))\n",
    "\n",
    "def cc(x:Int):String = \"_\" + x.toString\n",
    "def mv(x:String, y:Int):String = {x + \";\" + y}\n",
    "def mc(x:String, y:String):String = {x + \", \" + y}\n",
    "\n",
    "rdd1.combineByKey(cc, mv, mc).collect()"
   ]
  },
  {
   "cell_type": "code",
   "execution_count": 2,
   "metadata": {},
   "outputs": [
    {
     "data": {
      "text/plain": [
       "Array(1, 2, 3, 4, 5, 6, 7, 8)"
      ]
     },
     "execution_count": 2,
     "metadata": {},
     "output_type": "execute_result"
    }
   ],
   "source": [
    "myrdd.collect()"
   ]
  },
  {
   "cell_type": "code",
   "execution_count": 3,
   "metadata": {},
   "outputs": [
    {
     "data": {
      "text/plain": [
       "Array((x,1), (x,2), (x,3), (x,4), (x,5), (x,6), (x,7), (x,8))"
      ]
     },
     "execution_count": 3,
     "metadata": {},
     "output_type": "execute_result"
    }
   ],
   "source": [
    "rdd1.collect()"
   ]
  },
  {
   "cell_type": "code",
   "execution_count": 8,
   "metadata": {},
   "outputs": [],
   "source": [
    "def sum(x:Int,y:Int) = x + y \n",
    "def nop(x:Int) = x"
   ]
  },
  {
   "cell_type": "code",
   "execution_count": 10,
   "metadata": {},
   "outputs": [
    {
     "data": {
      "text/plain": [
       "Array((x,36))"
      ]
     },
     "execution_count": 10,
     "metadata": {},
     "output_type": "execute_result"
    }
   ],
   "source": [
    "rdd1.combineByKey(nop,sum,sum).collect()"
   ]
  },
  {
   "cell_type": "code",
   "execution_count": 12,
   "metadata": {},
   "outputs": [
    {
     "data": {
      "text/plain": [
       "Array((x,36))"
      ]
     },
     "execution_count": 12,
     "metadata": {},
     "output_type": "execute_result"
    }
   ],
   "source": [
    "rdd1.reduceByKey(sum).collect()"
   ]
  },
  {
   "cell_type": "code",
   "execution_count": 17,
   "metadata": {
    "collapsed": true
   },
   "outputs": [],
   "source": [
    "var tmp = List(('a', 1), ('b', 2), ('1', 3), ('d', 4), ('2', 5))\n",
    "var rdd = sc.parallelize(tmp, 4)"
   ]
  },
  {
   "cell_type": "code",
   "execution_count": 19,
   "metadata": {},
   "outputs": [
    {
     "data": {
      "text/plain": [
       "Array((d,4), (b,2), (a,1), (2,5), (1,3))"
      ]
     },
     "execution_count": 19,
     "metadata": {},
     "output_type": "execute_result"
    }
   ],
   "source": [
    "rdd.sortByKey(false,2).collect()"
   ]
  },
  {
   "cell_type": "code",
   "execution_count": 23,
   "metadata": {},
   "outputs": [
    {
     "data": {
      "text/plain": [
       "2"
      ]
     },
     "execution_count": 23,
     "metadata": {},
     "output_type": "execute_result"
    }
   ],
   "source": [
    "rdd.sortByKey(false,2).partitions.length"
   ]
  },
  {
   "cell_type": "code",
   "execution_count": 25,
   "metadata": {},
   "outputs": [
    {
     "data": {
      "text/plain": [
       "Array((a,(2,1)), (a,(3,1)))"
      ]
     },
     "execution_count": 25,
     "metadata": {},
     "output_type": "execute_result"
    }
   ],
   "source": [
    "var x = sc.parallelize(List((\"a\", 1), (\"b\", 4), (\"c\", 5)))\n",
    "var y = sc.parallelize(List((\"a\", 2), (\"a\", 3), (\"d\", 7)))\n",
    "y.join(x).collect()"
   ]
  },
  {
   "cell_type": "code",
   "execution_count": 26,
   "metadata": {},
   "outputs": [
    {
     "data": {
      "text/plain": [
       "Array((a,(1,2)), (a,(1,3)))"
      ]
     },
     "execution_count": 26,
     "metadata": {},
     "output_type": "execute_result"
    }
   ],
   "source": [
    "var x = sc.parallelize(List((\"a\", 1), (\"b\", 4), (\"c\", 5)))\n",
    "var y = sc.parallelize(List((\"a\", 2), (\"a\", 3), (\"d\", 7)))\n",
    "x.join(y).collect()"
   ]
  },
  {
   "cell_type": "code",
   "execution_count": 27,
   "metadata": {},
   "outputs": [
    {
     "data": {
      "text/plain": [
       "Array((1,(sandeep,Some(ryan))), (2,(sravani,None)))"
      ]
     },
     "execution_count": 27,
     "metadata": {},
     "output_type": "execute_result"
    }
   ],
   "source": [
    "var x = sc.parallelize(List((1, \"sandeep\"), (2, \"sravani\")))\n",
    "var y = sc.parallelize(List((1, \"ryan\"), (3, \"giri\")))\n",
    "x.leftOuterJoin(y).collect()"
   ]
  },
  {
   "cell_type": "code",
   "execution_count": 28,
   "metadata": {},
   "outputs": [
    {
     "data": {
      "text/plain": [
       "Array((1,(Some(sandeep),ryan)), (3,(None,giri)))"
      ]
     },
     "execution_count": 28,
     "metadata": {},
     "output_type": "execute_result"
    }
   ],
   "source": [
    "var x = sc.parallelize(List((1, \"sandeep\"), (2, \"sravani\")))\n",
    "var y = sc.parallelize(List((1, \"ryan\"), (3, \"giri\")))\n",
    "x.rightOuterJoin(y).collect()"
   ]
  },
  {
   "cell_type": "code",
   "execution_count": 31,
   "metadata": {},
   "outputs": [
    {
     "data": {
      "text/plain": [
       "Array((1,1), (2,2), (3,3), (4,4), (5,5), (6,6), (7,7), (8,8), (9,9), (10,10), (11,11), (12,12), (13,13), (14,14), (15,15), (16,16), (17,17), (18,18), (19,19), (20,20), (21,21), (22,22), (23,23), (24,24), (25,25), (26,26), (27,27), (28,28), (29,29), (30,30), (31,31), (32,32), (33,33), (34,34), (35,35), (36,36), (37,37), (38,38), (39,39), (40,40), (41,41), (42,42), (43,43), (44,44), (45,45), (46,46), (47,47), (48,48), (49,49), (50,50), (51,51), (52,52), (53,53), (54,54), (55,55), (56,56), (57,57), (58,58), (59,59), (60,60), (61,61), (62,62), (63,63), (64,64), (65,65), (66,66), (67,67), (68,68), (69,69), (70,70), (71,71), (72,72), (73,73), (74,74), (75,75), (76,76), (77,77), (78,78), (79,79), (80,80), (81,81), (82,82), (83,83), (84,84), (85,85), (86,86), (87,87),..."
      ]
     },
     "execution_count": 31,
     "metadata": {},
     "output_type": "execute_result"
    }
   ],
   "source": [
    "var lr = sc.parallelize(1 to 1000).map(x => (x, x) )\n",
    "lr.lookup(42)\n",
    "lr.collect()"
   ]
  },
  {
   "cell_type": "code",
   "execution_count": 33,
   "metadata": {},
   "outputs": [
    {
     "data": {
      "text/plain": [
       "Name: Compile Error\n",
       "Message: <console>:17: error: value lookup is not a member of org.apache.spark.rdd.RDD[Int]\n",
       "              lr.lookup(42)\n",
       "                 ^\n",
       "StackTrace: "
      ]
     },
     "execution_count": 33,
     "metadata": {},
     "output_type": "execute_result"
    }
   ],
   "source": [
    "var lr = sc.parallelize(1 to 1000)\n",
    "lr.lookup(42)"
   ]
  },
  {
   "cell_type": "code",
   "execution_count": 39,
   "metadata": {},
   "outputs": [],
   "source": [
    "var Dnardd = sc.textFile(\"/data/mr/dna/dna.txt\")"
   ]
  },
  {
   "cell_type": "code",
   "execution_count": 41,
   "metadata": {},
   "outputs": [
    {
     "data": {
      "text/plain": [
       "Array(User1   ACGT, User2   TGCA, User3   ACG, User4   ACGT, User5   ACG, User6   AGCT)"
      ]
     },
     "execution_count": 41,
     "metadata": {},
     "output_type": "execute_result"
    }
   ],
   "source": [
    "Dnardd.collect()"
   ]
  },
  {
   "cell_type": "code",
   "execution_count": 102,
   "metadata": {},
   "outputs": [],
   "source": [
    "def clean(line:String) = {\n",
    "var arr = line.split(\" \")\n",
    "(arr(3).trim,arr(0))\n",
    "}\n"
   ]
  },
  {
   "cell_type": "code",
   "execution_count": 82,
   "metadata": {},
   "outputs": [
    {
     "data": {
      "text/plain": [
       "(User1,ACGT)"
      ]
     },
     "execution_count": 82,
     "metadata": {},
     "output_type": "execute_result"
    }
   ],
   "source": [
    "clean(\"User1   ACGT\")"
   ]
  },
  {
   "cell_type": "code",
   "execution_count": 103,
   "metadata": {},
   "outputs": [],
   "source": [
    "var Words = Dnardd.map(clean)"
   ]
  },
  {
   "cell_type": "code",
   "execution_count": 104,
   "metadata": {},
   "outputs": [
    {
     "data": {
      "text/plain": [
       "Array((ACGT,User1), (TGCA,User2), (ACG,User3), (ACGT,User4), (ACG,User5), (AGCT,User6))"
      ]
     },
     "execution_count": 104,
     "metadata": {},
     "output_type": "execute_result"
    }
   ],
   "source": [
    "Words.collect"
   ]
  },
  {
   "cell_type": "code",
   "execution_count": 108,
   "metadata": {},
   "outputs": [],
   "source": [
    "var dnafile = Words.groupByKey()"
   ]
  },
  {
   "cell_type": "code",
   "execution_count": 110,
   "metadata": {},
   "outputs": [
    {
     "data": {
      "text/plain": [
       "Array((TGCA,CompactBuffer(User2)), (ACG,CompactBuffer(User3, User5)), (ACGT,CompactBuffer(User1, User4)), (AGCT,CompactBuffer(User6)))"
      ]
     },
     "execution_count": 110,
     "metadata": {},
     "output_type": "execute_result"
    }
   ],
   "source": [
    "dnafile.collect()"
   ]
  },
  {
   "cell_type": "code",
   "execution_count": 109,
   "metadata": {
    "collapsed": true
   },
   "outputs": [],
   "source": [
    "dnafile.saveAsTextFile(\"dnaoutputfile\")"
   ]
  },
  {
   "cell_type": "markdown",
   "metadata": {},
   "source": [
    "var Dnardd = sc.textFile(\"/data/mr/dna/dna.txt\")\n",
    "def clean(line:String) = {\n",
    "var arr = line.split(\" \")\n",
    "(arr(3).trim,arr(0))\n",
    "}\n",
    "var pairs = Dnardd.map(clean)\n",
    "var userdna = pairs.groupByKey()\n",
    "//#output\n",
    "Array((TGCA,CompactBuffer(User2)), (ACG,CompactBuffer(User3, User5)), (ACGT,CompactBuffer(User1, User4)), (AGCT,CompactBuffer(User6)))"
   ]
  },
  {
   "cell_type": "code",
   "execution_count": null,
   "metadata": {
    "collapsed": true
   },
   "outputs": [],
   "source": []
  }
 ],
 "metadata": {
  "kernelspec": {
   "display_name": "Apache Toree - Scala",
   "language": "scala",
   "name": "apache_toree_scala"
  },
  "language_info": {
   "name": "scala",
   "version": "2.10.4"
  }
 },
 "nbformat": 4,
 "nbformat_minor": 2
}
